{
 "cells": [
  {
   "cell_type": "code",
   "execution_count": 4,
   "id": "dbe4d75a-073c-4fd1-a7bb-d1152323b187",
   "metadata": {},
   "outputs": [
    {
     "name": "stdout",
     "output_type": "stream",
     "text": [
      "['Noor', 'Hoor']\n"
     ]
    }
   ],
   "source": []
  },
  {
   "cell_type": "code",
   "execution_count": 10,
   "id": "00058679-0b09-4b9f-b2a7-7b378c9f2292",
   "metadata": {},
   "outputs": [
    {
     "name": "stdout",
     "output_type": "stream",
     "text": [
      "[2, 4, 6, 8, 10]\n",
      "[1, 3, 5, 7, 9]\n"
     ]
    }
   ],
   "source": [
    "# Define an empty list to store tasks\n",
    "tasks = []\n",
    "\n",
    "def display_menu():\n",
    "    print(\"Welcome to the To-Do List App!\")\n",
    "    print(\"1. Add Task\")\n",
    "    print(\"2. Mark Task as Completed\")\n",
    "    print(\"3. Delete Task\")\n",
    "    print(\"4. View Tasks\")\n",
    "    print(\"5. Exit\")\n",
    "\n",
    "def add_task():\n",
    "    task = input(\"Enter the task: \")\n",
    "    tasks.append({\"task\": task, \"completed\": False})\n",
    "    print(f\"Task '{task}' added successfully!\")\n",
    "\n",
    "def mark_completed():\n",
    "    print(\"Tasks:\")\n",
    "    display_tasks()\n",
    "    index = int(input(\"Enter the index of the task to mark as completed: \"))\n",
    "    if 0 <= index < len(tasks):\n",
    "        tasks[index][\"completed\"] = True\n",
    "        print(f\"Task '{tasks[index]['task']}' marked as completed!\")\n",
    "    else:\n",
    "        print(\"Invalid task index!\")\n",
    "\n",
    "def delete_task():\n",
    "    print(\"Tasks:\")\n",
    "    display_tasks()\n",
    "    index = int(input(\"Enter the index of the task to delete: \"))\n",
    "    if 0 <= index < len(tasks):\n",
    "        deleted_task = tasks.pop(index)\n",
    "        print(f\"Task '{deleted_task['task']}' deleted successfully!\")\n",
    "    else:\n",
    "        print(\"Invalid task index!\")\n",
    "\n",
    "def display_tasks():\n",
    "    if not tasks:\n",
    "        print(\"No tasks.\")\n",
    "    else:\n",
    "        for idx, task in enumerate(tasks):\n",
    "            status = \"Completed\" if task[\"completed\"] else \"Not Completed\"\n",
    "            print(f\"{idx}. [{status}] {task['task']}\")\n",
    "\n",
    "# Main loop for the application\n",
    "while True:\n",
    "    display_menu()\n",
    "    choice = input(\"Enter your choice (1-5): \")\n",
    "\n",
    "    if choice == '1':\n",
    "        add_task()\n",
    "    elif choice == '2':\n",
    "        mark_completed()\n",
    "    elif choice == '3':\n",
    "        delete_task()\n",
    "    elif choice == '4':\n",
    "        display_tasks()\n",
    "    elif choice == '5':\n",
    "        print(\"Thank you for using the To-Do List App!\")\n",
    "        break\n",
    "    else:\n",
    "        print(\"Invalid choice. Please enter a number from 1 to 5.\")\n"
   ]
  }
 ],
 "metadata": {
  "kernelspec": {
   "display_name": "Python 3 (ipykernel)",
   "language": "python",
   "name": "python3"
  },
  "language_info": {
   "codemirror_mode": {
    "name": "ipython",
    "version": 3
   },
   "file_extension": ".py",
   "mimetype": "text/x-python",
   "name": "python",
   "nbconvert_exporter": "python",
   "pygments_lexer": "ipython3",
   "version": "3.12.4"
  }
 },
 "nbformat": 4,
 "nbformat_minor": 5
}
