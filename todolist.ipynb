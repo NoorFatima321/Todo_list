{
 "cells": [
  {
   "cell_type": "code",
   "execution_count": 4,
   "id": "dbe4d75a-073c-4fd1-a7bb-d1152323b187",
   "metadata": {},
   "outputs": [
    {
     "name": "stdout",
     "output_type": "stream",
     "text": [
      "['Noor', 'Hoor']\n"
     ]
    }
   ],
   "source": [
    "list=[\"Noor\",\"Aroob\",\"Hoor\"]\n",
    "ss=list[0::2]\n",
    "print(ss)"
   ]
  },
  {
   "cell_type": "code",
   "execution_count": 10,
   "id": "00058679-0b09-4b9f-b2a7-7b378c9f2292",
   "metadata": {},
   "outputs": [
    {
     "name": "stdout",
     "output_type": "stream",
     "text": [
      "[2, 4, 6, 8, 10]\n",
      "[1, 3, 5, 7, 9]\n"
     ]
    }
   ],
   "source": [
    "list=[1,2,3,4,5,6,7,8,9,10]\n",
    "print(list[1:10:2]) # Print even numbers\n",
    "print(list[0::2]) # Print odd numbers "
   ]
  }
 ],
 "metadata": {
  "kernelspec": {
   "display_name": "Python 3 (ipykernel)",
   "language": "python",
   "name": "python3"
  },
  "language_info": {
   "codemirror_mode": {
    "name": "ipython",
    "version": 3
   },
   "file_extension": ".py",
   "mimetype": "text/x-python",
   "name": "python",
   "nbconvert_exporter": "python",
   "pygments_lexer": "ipython3",
   "version": "3.12.4"
  }
 },
 "nbformat": 4,
 "nbformat_minor": 5
}
